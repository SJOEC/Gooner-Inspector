{
 "cells": [
  {
   "metadata": {},
   "cell_type": "markdown",
   "source": [
    "# This is a sample Jupyter Notebook\n",
    "\n",
    "Below is an example of a code cell. \n",
    "Put your cursor into the cell and press Shift+Enter to execute it and select the next one, or click 'Run Cell' button.\n",
    "\n",
    "Press Double Shift to search everywhere for classes, files, tool windows, actions, and settings.\n",
    "\n",
    "To learn more about Jupyter Notebooks in PyCharm, see [help](https://www.jetbrains.com/help/pycharm/ipython-notebook-support.html).\n",
    "For an overview of PyCharm, go to Help -> Learn IDE features or refer to [our documentation](https://www.jetbrains.com/help/pycharm/getting-started.html)."
   ],
   "id": "8a77807f92f26ee"
  },
  {
   "metadata": {
    "ExecuteTime": {
     "end_time": "2025-07-28T17:18:41.513345Z",
     "start_time": "2025-07-28T17:18:41.511307Z"
    }
   },
   "cell_type": "code",
   "source": [
    "import numpy as np\n",
    "import pandas as pd"
   ],
   "id": "fbc121e30a2defb3",
   "outputs": [],
   "execution_count": 74
  },
  {
   "metadata": {
    "ExecuteTime": {
     "end_time": "2025-07-28T17:18:46.374727Z",
     "start_time": "2025-07-28T17:18:41.529023Z"
    }
   },
   "cell_type": "code",
   "source": [
    "data_path = 'games_march2025_cleaned.csv'\n",
    "df = pd.read_csv(data_path)"
   ],
   "id": "706ed25d5c9e5b2c",
   "outputs": [],
   "execution_count": 75
  },
  {
   "metadata": {
    "ExecuteTime": {
     "end_time": "2025-07-28T17:49:22.617299Z",
     "start_time": "2025-07-28T17:49:22.515916Z"
    }
   },
   "cell_type": "code",
   "source": [
    "print(df.columns)\n",
    "\n",
    "print(df['appid'].where(df['required_age'] > 17).count())\n",
    "print(df.loc[df['tags'].fillna('').str.contains('Nudity|Hentai|NSFW', regex= True)]['name'])\n",
    "\n"
   ],
   "id": "531e8713224f7320",
   "outputs": [
    {
     "name": "stdout",
     "output_type": "stream",
     "text": [
      "Index(['appid', 'name', 'release_date', 'required_age', 'price', 'dlc_count',\n",
      "       'detailed_description', 'about_the_game', 'short_description',\n",
      "       'reviews', 'header_image', 'website', 'support_url', 'support_email',\n",
      "       'windows', 'mac', 'linux', 'metacritic_score', 'metacritic_url',\n",
      "       'achievements', 'recommendations', 'notes', 'supported_languages',\n",
      "       'full_audio_languages', 'packages', 'developers', 'publishers',\n",
      "       'categories', 'genres', 'screenshots', 'movies', 'user_score',\n",
      "       'score_rank', 'positive', 'negative', 'estimated_owners',\n",
      "       'average_playtime_forever', 'average_playtime_2weeks',\n",
      "       'median_playtime_forever', 'median_playtime_2weeks', 'discount',\n",
      "       'peak_ccu', 'tags', 'pct_pos_total', 'num_reviews_total',\n",
      "       'pct_pos_recent', 'num_reviews_recent'],\n",
      "      dtype='object')\n",
      "154\n",
      "7                                  Rust\n",
      "11             The Witcher 3: Wild Hunt\n",
      "14                       Cyberpunk 2077\n",
      "16                      Baldur's Gate 3\n",
      "100                         The Sims™ 4\n",
      "                      ...              \n",
      "89234    魔装術師アカネ / Magic MechSuit Akane\n",
      "89253                  The Last Chimera\n",
      "89270                              Milo\n",
      "89293             Zeta Wolf: First Bite\n",
      "89480                     Cursor Engine\n",
      "Name: name, Length: 2932, dtype: object\n"
     ]
    }
   ],
   "execution_count": 97
  }
 ],
 "metadata": {
  "kernelspec": {
   "display_name": "Python 3",
   "language": "python",
   "name": "python3"
  },
  "language_info": {
   "codemirror_mode": {
    "name": "ipython",
    "version": 2
   },
   "file_extension": ".py",
   "mimetype": "text/x-python",
   "name": "python",
   "nbconvert_exporter": "python",
   "pygments_lexer": "ipython2",
   "version": "2.7.6"
  }
 },
 "nbformat": 4,
 "nbformat_minor": 5
}
